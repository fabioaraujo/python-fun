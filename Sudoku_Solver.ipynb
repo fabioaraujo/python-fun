{
  "nbformat": 4,
  "nbformat_minor": 0,
  "metadata": {
    "colab": {
      "name": "Sudoku Solver.ipynb",
      "provenance": [],
      "authorship_tag": "ABX9TyNMAwkDnq3966sdG6EwX94/",
      "include_colab_link": true
    },
    "kernelspec": {
      "name": "python3",
      "display_name": "Python 3"
    }
  },
  "cells": [
    {
      "cell_type": "markdown",
      "metadata": {
        "id": "view-in-github",
        "colab_type": "text"
      },
      "source": [
        "<a href=\"https://colab.research.google.com/github/fabioaraujo/python-fun/blob/master/Sudoku_Solver.ipynb\" target=\"_parent\"><img src=\"https://colab.research.google.com/assets/colab-badge.svg\" alt=\"Open In Colab\"/></a>"
      ]
    },
    {
      "cell_type": "code",
      "metadata": {
        "id": "hlG7KIx7d-hP",
        "colab_type": "code",
        "colab": {}
      },
      "source": [
        "grid = [\n",
        "        [8,0,0,0,0,0,0,0,0],\n",
        "        [0,0,3,6,0,0,0,0,0],\n",
        "        [0,7,0,0,9,0,2,0,0],\n",
        "        [0,5,0,0,0,7,0,0,0],\n",
        "        [0,0,0,0,4,5,7,0,0],\n",
        "        [0,0,0,1,0,0,0,3,0],\n",
        "        [0,0,1,0,0,0,0,6,8],\n",
        "        [0,0,8,5,0,0,0,1,0],\n",
        "        [0,9,0,0,0,0,4,0,0]\n",
        "        ]"
      ],
      "execution_count": 0,
      "outputs": []
    },
    {
      "cell_type": "code",
      "metadata": {
        "id": "ziUU4Y2YeMgj",
        "colab_type": "code",
        "outputId": "9ae264c8-b427-4f8a-dc72-8f9ccdf6d0be",
        "colab": {
          "base_uri": "https://localhost:8080/",
          "height": 173
        }
      },
      "source": [
        "import numpy as np\n",
        "print(np.matrix(grid))"
      ],
      "execution_count": 209,
      "outputs": [
        {
          "output_type": "stream",
          "text": [
            "[[8 0 0 0 0 0 0 0 0]\n",
            " [0 0 3 6 0 0 0 0 0]\n",
            " [0 7 0 0 9 0 2 0 0]\n",
            " [0 5 0 0 0 7 0 0 0]\n",
            " [0 0 0 0 4 5 7 0 0]\n",
            " [0 0 0 1 0 0 0 3 0]\n",
            " [0 0 1 0 0 0 0 6 8]\n",
            " [0 0 8 5 0 0 0 1 0]\n",
            " [0 9 0 0 0 0 4 0 0]]\n"
          ],
          "name": "stdout"
        }
      ]
    },
    {
      "cell_type": "code",
      "metadata": {
        "id": "WQSQTObn1_4o",
        "colab_type": "code",
        "colab": {}
      },
      "source": [
        "def possible_number(x,y,n) :\n",
        "  global grid\n",
        "  #check line and column\n",
        "  for i in range (0,9):\n",
        "    if grid[x][i] == n :\n",
        "      return False\n",
        "    if grid[i][y] == n :\n",
        "      return False\n",
        "\n",
        "  #check which grid we are working on\n",
        "  x_grid = (x//3) * 3\n",
        "  y_grid = (y//3) * 3\n",
        "  \n",
        "  #check the grid if we already this n number in it\n",
        "  for i in range(0,3):\n",
        "    for j in range(0,3):\n",
        "      if grid[x_grid+i][y_grid+j] == n:\n",
        "        return False\n",
        "  return True"
      ],
      "execution_count": 0,
      "outputs": []
    },
    {
      "cell_type": "code",
      "metadata": {
        "id": "qd1ZqyIW2aiV",
        "colab_type": "code",
        "colab": {
          "base_uri": "https://localhost:8080/",
          "height": 34
        },
        "outputId": "bd8c20ba-bbb5-4650-e4f3-517cf476fc6e"
      },
      "source": [
        "# the line 0 has an 8 number\n",
        "possible_number(0,1,8)"
      ],
      "execution_count": 211,
      "outputs": [
        {
          "output_type": "execute_result",
          "data": {
            "text/plain": [
              "False"
            ]
          },
          "metadata": {
            "tags": []
          },
          "execution_count": 211
        }
      ]
    },
    {
      "cell_type": "code",
      "metadata": {
        "id": "LWhEM7zX2lu3",
        "colab_type": "code",
        "colab": {
          "base_uri": "https://localhost:8080/",
          "height": 34
        },
        "outputId": "17e439f7-902c-4af3-f0cb-6462bfaff412"
      },
      "source": [
        "# the zero line, and column 1 and first grid doesn't has the number 1\n",
        "possible_number(0,1,1)"
      ],
      "execution_count": 212,
      "outputs": [
        {
          "output_type": "execute_result",
          "data": {
            "text/plain": [
              "True"
            ]
          },
          "metadata": {
            "tags": []
          },
          "execution_count": 212
        }
      ]
    },
    {
      "cell_type": "code",
      "metadata": {
        "id": "UC52n-yM29av",
        "colab_type": "code",
        "colab": {
          "base_uri": "https://localhost:8080/",
          "height": 34
        },
        "outputId": "8fed96b5-94fd-44b2-dec7-d4ebf24bf24f"
      },
      "source": [
        "# the first grid already has the number 8\n",
        "possible_number(1,1,8)"
      ],
      "execution_count": 213,
      "outputs": [
        {
          "output_type": "execute_result",
          "data": {
            "text/plain": [
              "False"
            ]
          },
          "metadata": {
            "tags": []
          },
          "execution_count": 213
        }
      ]
    },
    {
      "cell_type": "code",
      "metadata": {
        "id": "Au42El1S5Sz0",
        "colab_type": "code",
        "colab": {}
      },
      "source": [
        "def solve():\n",
        "  for x in range (0,9):\n",
        "    for y in range (0,9):\n",
        "      #if the cell is blank try to find a possible number\n",
        "      if grid[x][y] == 0:\n",
        "        for n in range(1,10):\n",
        "            if possible_number(x, y, n):\n",
        "              #if possible number put it on the grid\n",
        "              grid[x][y] = n\n",
        "              #Check if more numbers are empty\n",
        "              if solve():\n",
        "                return True\n",
        "              #if we have an empty number put a 0 in here and try to figure out the next number\n",
        "              grid[x][y] = 0\n",
        "        #We have an empty number\n",
        "        return False\n",
        "  #Found out a solution\n",
        "  return True\n",
        "\n"
      ],
      "execution_count": 0,
      "outputs": []
    },
    {
      "cell_type": "code",
      "metadata": {
        "id": "hPtBpbNa6qGd",
        "colab_type": "code",
        "colab": {
          "base_uri": "https://localhost:8080/",
          "height": 191
        },
        "outputId": "e1d7ab55-8ba3-4d95-ccc9-65acce7be274"
      },
      "source": [
        "solve()\n",
        "print(np.matrix(grid))"
      ],
      "execution_count": 215,
      "outputs": [
        {
          "output_type": "stream",
          "text": [
            "[[ True]]\n",
            "[[8 1 2 7 5 3 6 4 9]\n",
            " [9 4 3 6 8 2 1 7 5]\n",
            " [6 7 5 4 9 1 2 8 3]\n",
            " [1 5 4 2 3 7 8 9 6]\n",
            " [3 6 9 8 4 5 7 2 1]\n",
            " [2 8 7 1 6 9 5 3 4]\n",
            " [5 2 1 9 7 4 3 6 8]\n",
            " [4 3 8 5 2 6 9 1 7]\n",
            " [7 9 6 3 1 8 4 5 2]]\n"
          ],
          "name": "stdout"
        }
      ]
    },
    {
      "cell_type": "code",
      "metadata": {
        "id": "UCPBaMss8naM",
        "colab_type": "code",
        "colab": {}
      },
      "source": [
        "grid = [\n",
        "        [0,0,0,0,0,0,0,0,0],\n",
        "        [0,0,0,0,0,0,0,0,0],\n",
        "        [0,0,0,0,0,0,0,0,0],\n",
        "        [3,8,4,0,0,0,0,0,0],\n",
        "        [0,0,0,0,0,0,0,0,0],\n",
        "        [0,0,0,0,0,0,0,0,0],\n",
        "        [0,0,0,0,0,0,0,0,0],\n",
        "        [0,0,0,0,0,0,0,0,0],\n",
        "        [0,0,0,0,0,0,0,0,2]\n",
        "        ]"
      ],
      "execution_count": 0,
      "outputs": []
    },
    {
      "cell_type": "code",
      "metadata": {
        "id": "2NCSYyMA80v-",
        "colab_type": "code",
        "colab": {
          "base_uri": "https://localhost:8080/",
          "height": 191
        },
        "outputId": "a3d26883-f82f-4151-b8d0-9d3f93df93b0"
      },
      "source": [
        "solve()\n",
        "print(np.matrix(grid))"
      ],
      "execution_count": 217,
      "outputs": [
        {
          "output_type": "stream",
          "text": [
            "[[ True]]\n",
            "[[1 2 3 4 5 6 7 8 9]\n",
            " [4 5 6 7 8 9 1 2 3]\n",
            " [7 9 8 1 2 3 4 5 6]\n",
            " [3 8 4 2 1 5 6 9 7]\n",
            " [2 1 5 6 9 7 3 4 8]\n",
            " [6 7 9 3 4 8 2 1 5]\n",
            " [5 3 1 8 6 2 9 7 4]\n",
            " [8 6 2 9 7 4 5 3 1]\n",
            " [9 4 7 5 3 1 8 6 2]]\n"
          ],
          "name": "stdout"
        }
      ]
    },
    {
      "cell_type": "code",
      "metadata": {
        "id": "GS1MNfr1AibV",
        "colab_type": "code",
        "colab": {}
      },
      "source": [
        "grid = [\n",
        "        [5,3,0,0,7,0,0,0,0],\n",
        "        [6,0,0,1,9,5,0,0,0],\n",
        "        [0,9,8,0,0,0,0,6,0],\n",
        "        [8,0,0,0,6,0,0,0,3],\n",
        "        [4,0,0,8,0,3,0,0,1],\n",
        "        [7,0,0,0,2,0,0,0,6],\n",
        "        [0,6,0,0,0,0,2,8,0],\n",
        "        [0,0,0,4,1,9,0,0,5],\n",
        "        [0,0,0,0,8,0,0,7,9]\n",
        "        ]"
      ],
      "execution_count": 0,
      "outputs": []
    },
    {
      "cell_type": "code",
      "metadata": {
        "id": "LfvT9yWyBM08",
        "colab_type": "code",
        "colab": {
          "base_uri": "https://localhost:8080/",
          "height": 191
        },
        "outputId": "9e8b0ef7-3c68-46ab-ae83-24cf0ddaec84"
      },
      "source": [
        "solve()\n",
        "print(np.matrix(grid))"
      ],
      "execution_count": 219,
      "outputs": [
        {
          "output_type": "stream",
          "text": [
            "[[ True]]\n",
            "[[5 3 4 6 7 8 9 1 2]\n",
            " [6 7 2 1 9 5 3 4 8]\n",
            " [1 9 8 3 4 2 5 6 7]\n",
            " [8 5 9 7 6 1 4 2 3]\n",
            " [4 2 6 8 5 3 7 9 1]\n",
            " [7 1 3 9 2 4 8 5 6]\n",
            " [9 6 1 5 3 7 2 8 4]\n",
            " [2 8 7 4 1 9 6 3 5]\n",
            " [3 4 5 2 8 6 1 7 9]]\n"
          ],
          "name": "stdout"
        }
      ]
    },
    {
      "cell_type": "code",
      "metadata": {
        "id": "KjFaZPezGC3V",
        "colab_type": "code",
        "colab": {}
      },
      "source": [
        "grid = [\n",
        "        [7,8,0,0,0,3,0,0,0],\n",
        "        [0,0,1,8,0,0,0,0,3],\n",
        "        [0,3,0,4,0,0,0,5,0],\n",
        "        [0,0,0,0,4,0,8,0,0],\n",
        "        [2,1,0,5,0,0,0,9,0],\n",
        "        [0,7,0,0,0,9,0,0,1],\n",
        "        [0,0,7,0,9,0,4,0,0],\n",
        "        [0,0,0,0,0,8,6,0,0],\n",
        "        [6,0,0,0,2,0,0,8,0]\n",
        "        ]"
      ],
      "execution_count": 0,
      "outputs": []
    },
    {
      "cell_type": "code",
      "metadata": {
        "id": "QzAH2pdpGkYS",
        "colab_type": "code",
        "colab": {
          "base_uri": "https://localhost:8080/",
          "height": 173
        },
        "outputId": "5a84326d-0dc4-4e20-9601-29fbbe915bd3"
      },
      "source": [
        "solve()\n",
        "print(np.matrix(grid))"
      ],
      "execution_count": 222,
      "outputs": [
        {
          "output_type": "stream",
          "text": [
            "[[7 8 5 9 6 3 1 2 4]\n",
            " [4 2 1 8 7 5 9 6 3]\n",
            " [9 3 6 4 1 2 7 5 8]\n",
            " [3 6 9 2 4 1 8 7 5]\n",
            " [2 1 4 5 8 7 3 9 6]\n",
            " [5 7 8 6 3 9 2 4 1]\n",
            " [8 5 7 3 9 6 4 1 2]\n",
            " [1 4 2 7 5 8 6 3 9]\n",
            " [6 9 3 1 2 4 5 8 7]]\n"
          ],
          "name": "stdout"
        }
      ]
    },
    {
      "cell_type": "code",
      "metadata": {
        "id": "xGcpRK-tH14I",
        "colab_type": "code",
        "colab": {
          "base_uri": "https://localhost:8080/",
          "height": 173
        },
        "outputId": "07d6d2e1-0a37-4552-c9ec-71d9b72a0141"
      },
      "source": [
        "grid = [\n",
        "        [0,0,0,0,0,0,0,0,0],\n",
        "        [0,0,0,0,0,0,0,0,0],\n",
        "        [0,0,0,0,0,0,0,0,0],\n",
        "        [0,0,0,0,0,0,0,0,0],\n",
        "        [0,0,0,0,0,0,0,0,0],\n",
        "        [0,0,0,0,0,0,0,0,0],\n",
        "        [0,0,0,0,0,0,0,0,0],\n",
        "        [0,0,0,0,0,0,0,0,0],\n",
        "        [0,0,0,0,0,0,0,0,0]\n",
        "        ]\n",
        "solve()\n",
        "print(np.matrix(grid))"
      ],
      "execution_count": 223,
      "outputs": [
        {
          "output_type": "stream",
          "text": [
            "[[1 2 3 4 5 6 7 8 9]\n",
            " [4 5 6 7 8 9 1 2 3]\n",
            " [7 8 9 1 2 3 4 5 6]\n",
            " [2 1 4 3 6 5 8 9 7]\n",
            " [3 6 5 8 9 7 2 1 4]\n",
            " [8 9 7 2 1 4 3 6 5]\n",
            " [5 3 1 6 4 2 9 7 8]\n",
            " [6 4 2 9 7 8 5 3 1]\n",
            " [9 7 8 5 3 1 6 4 2]]\n"
          ],
          "name": "stdout"
        }
      ]
    }
  ]
}